{
 "cells": [
  {
   "cell_type": "code",
   "execution_count": 1,
   "id": "c90795a8-09da-48d8-a0b6-1f95100c5176",
   "metadata": {},
   "outputs": [
    {
     "name": "stdout",
     "output_type": "stream",
     "text": [
      "   RegionID   Home_Index  SizeRank  30_Yr_Mort_Rate       GDP         CPI  \\\n",
      "0    394894  27597.38171       734         8.102308  8032.840  156.533333   \n",
      "1    394894  28659.93645       734         8.146923  8131.408  157.366667   \n",
      "2    394894  29261.26975       734         7.703077  8259.771  158.500000   \n",
      "3    394894  29360.40388       734         7.926923  8518.825  160.200000   \n",
      "4    394894  29697.10258       734         7.793077  8362.655  159.566667   \n",
      "\n",
      "   Unemp_Rate      Per_Inc   Population  Year_Quarter  \\\n",
      "0    5.500000  6638.633333  269251.3333       1996.25   \n",
      "1    5.266667  6712.800000  270128.3333       1996.50   \n",
      "2    5.333333  6802.600000  270991.6667       1996.75   \n",
      "3    5.000000  7003.300000  272487.3333       1997.25   \n",
      "4    5.233333  6922.166667  271709.0000       1997.00   \n",
      "\n",
      "   RegionName_Target_Encoded  StateName_Target_Encoded  Rank  \n",
      "0               55104.972794             107857.281988     1  \n",
      "1               55104.972794             107857.281988     2  \n",
      "2               55104.972794             107857.281988     3  \n",
      "3               55104.972794             107857.281988     4  \n",
      "4               55104.972794             107857.281988     5  \n"
     ]
    }
   ],
   "source": [
    "import pandas as pd\n",
    "\n",
    "# Load dataset\n",
    "hi_data = pd.read_csv('hi_data.csv')\n",
    "\n",
    "# Sort data by Home_Index value, least to greatest\n",
    "hi_data_sorted = hi_data.sort_values(by='Home_Index', ascending=True).reset_index(drop=True)\n",
    "\n",
    "# Create a new column 'Rank' and rank the data from 1 to n\n",
    "hi_data_sorted['Rank'] = hi_data_sorted.index + 1\n",
    "\n",
    "# Display the first few rows of the sorted and ranked data\n",
    "print(hi_data_sorted.head())\n",
    "\n",
    "# Save the sorted and ranked data to a new CSV file if needed\n",
    "hi_data_sorted.to_csv('hi_data_sorted_ranked.csv', index=False)\n"
   ]
  },
  {
   "cell_type": "code",
   "execution_count": null,
   "id": "d5c4f7ad-c8eb-440f-8300-896472ba8b99",
   "metadata": {},
   "outputs": [],
   "source": []
  }
 ],
 "metadata": {
  "kernelspec": {
   "display_name": "Python 3 (ipykernel)",
   "language": "python",
   "name": "python3"
  },
  "language_info": {
   "codemirror_mode": {
    "name": "ipython",
    "version": 3
   },
   "file_extension": ".py",
   "mimetype": "text/x-python",
   "name": "python",
   "nbconvert_exporter": "python",
   "pygments_lexer": "ipython3",
   "version": "3.11.7"
  }
 },
 "nbformat": 4,
 "nbformat_minor": 5
}
